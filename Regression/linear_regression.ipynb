{
 "cells": [
  {
   "cell_type": "markdown",
   "metadata": {},
   "source": [
    "# Implementation of Simple Linear Regression and checking the Assumptions of Linear Regression\n",
    "\n",
    "Here, I have used already cleaned data so that we can directly jump to modelling."
   ]
  },
  {
   "cell_type": "code",
   "execution_count": 50,
   "metadata": {},
   "outputs": [],
   "source": [
    "# import libraries\n",
    "import numpy as np\n",
    "import pandas as pd\n",
    "import matplotlib.pyplot as plt"
   ]
  },
  {
   "cell_type": "code",
   "execution_count": 51,
   "metadata": {},
   "outputs": [
    {
     "data": {
      "text/html": [
       "<div>\n",
       "<style scoped>\n",
       "    .dataframe tbody tr th:only-of-type {\n",
       "        vertical-align: middle;\n",
       "    }\n",
       "\n",
       "    .dataframe tbody tr th {\n",
       "        vertical-align: top;\n",
       "    }\n",
       "\n",
       "    .dataframe thead th {\n",
       "        text-align: right;\n",
       "    }\n",
       "</style>\n",
       "<table border=\"1\" class=\"dataframe\">\n",
       "  <thead>\n",
       "    <tr style=\"text-align: right;\">\n",
       "      <th></th>\n",
       "      <th>Item_Weight</th>\n",
       "      <th>Item_Visibility</th>\n",
       "      <th>Item_MRP</th>\n",
       "      <th>Outlet_Establishment_Year</th>\n",
       "      <th>Item_Outlet_Sales</th>\n",
       "      <th>Item_Fat_Content_LF</th>\n",
       "      <th>Item_Fat_Content_Low Fat</th>\n",
       "      <th>Item_Fat_Content_Regular</th>\n",
       "      <th>Item_Fat_Content_low fat</th>\n",
       "      <th>Item_Fat_Content_reg</th>\n",
       "      <th>...</th>\n",
       "      <th>Outlet_Size_High</th>\n",
       "      <th>Outlet_Size_Medium</th>\n",
       "      <th>Outlet_Size_Small</th>\n",
       "      <th>Outlet_Location_Type_Tier 1</th>\n",
       "      <th>Outlet_Location_Type_Tier 2</th>\n",
       "      <th>Outlet_Location_Type_Tier 3</th>\n",
       "      <th>Outlet_Type_Grocery Store</th>\n",
       "      <th>Outlet_Type_Supermarket Type1</th>\n",
       "      <th>Outlet_Type_Supermarket Type2</th>\n",
       "      <th>Outlet_Type_Supermarket Type3</th>\n",
       "    </tr>\n",
       "  </thead>\n",
       "  <tbody>\n",
       "    <tr>\n",
       "      <th>0</th>\n",
       "      <td>9.30</td>\n",
       "      <td>0.016047</td>\n",
       "      <td>249.8092</td>\n",
       "      <td>1999</td>\n",
       "      <td>3735.1380</td>\n",
       "      <td>0</td>\n",
       "      <td>1</td>\n",
       "      <td>0</td>\n",
       "      <td>0</td>\n",
       "      <td>0</td>\n",
       "      <td>...</td>\n",
       "      <td>0</td>\n",
       "      <td>1</td>\n",
       "      <td>0</td>\n",
       "      <td>1</td>\n",
       "      <td>0</td>\n",
       "      <td>0</td>\n",
       "      <td>0</td>\n",
       "      <td>1</td>\n",
       "      <td>0</td>\n",
       "      <td>0</td>\n",
       "    </tr>\n",
       "    <tr>\n",
       "      <th>1</th>\n",
       "      <td>5.92</td>\n",
       "      <td>0.019278</td>\n",
       "      <td>48.2692</td>\n",
       "      <td>2009</td>\n",
       "      <td>443.4228</td>\n",
       "      <td>0</td>\n",
       "      <td>0</td>\n",
       "      <td>1</td>\n",
       "      <td>0</td>\n",
       "      <td>0</td>\n",
       "      <td>...</td>\n",
       "      <td>0</td>\n",
       "      <td>1</td>\n",
       "      <td>0</td>\n",
       "      <td>0</td>\n",
       "      <td>0</td>\n",
       "      <td>1</td>\n",
       "      <td>0</td>\n",
       "      <td>0</td>\n",
       "      <td>1</td>\n",
       "      <td>0</td>\n",
       "    </tr>\n",
       "    <tr>\n",
       "      <th>2</th>\n",
       "      <td>17.50</td>\n",
       "      <td>0.016760</td>\n",
       "      <td>141.6180</td>\n",
       "      <td>1999</td>\n",
       "      <td>2097.2700</td>\n",
       "      <td>0</td>\n",
       "      <td>1</td>\n",
       "      <td>0</td>\n",
       "      <td>0</td>\n",
       "      <td>0</td>\n",
       "      <td>...</td>\n",
       "      <td>0</td>\n",
       "      <td>1</td>\n",
       "      <td>0</td>\n",
       "      <td>1</td>\n",
       "      <td>0</td>\n",
       "      <td>0</td>\n",
       "      <td>0</td>\n",
       "      <td>1</td>\n",
       "      <td>0</td>\n",
       "      <td>0</td>\n",
       "    </tr>\n",
       "    <tr>\n",
       "      <th>3</th>\n",
       "      <td>19.20</td>\n",
       "      <td>0.000000</td>\n",
       "      <td>182.0950</td>\n",
       "      <td>1998</td>\n",
       "      <td>732.3800</td>\n",
       "      <td>0</td>\n",
       "      <td>0</td>\n",
       "      <td>1</td>\n",
       "      <td>0</td>\n",
       "      <td>0</td>\n",
       "      <td>...</td>\n",
       "      <td>0</td>\n",
       "      <td>0</td>\n",
       "      <td>0</td>\n",
       "      <td>0</td>\n",
       "      <td>0</td>\n",
       "      <td>1</td>\n",
       "      <td>1</td>\n",
       "      <td>0</td>\n",
       "      <td>0</td>\n",
       "      <td>0</td>\n",
       "    </tr>\n",
       "    <tr>\n",
       "      <th>4</th>\n",
       "      <td>8.93</td>\n",
       "      <td>0.000000</td>\n",
       "      <td>53.8614</td>\n",
       "      <td>1987</td>\n",
       "      <td>994.7052</td>\n",
       "      <td>0</td>\n",
       "      <td>1</td>\n",
       "      <td>0</td>\n",
       "      <td>0</td>\n",
       "      <td>0</td>\n",
       "      <td>...</td>\n",
       "      <td>1</td>\n",
       "      <td>0</td>\n",
       "      <td>0</td>\n",
       "      <td>0</td>\n",
       "      <td>0</td>\n",
       "      <td>1</td>\n",
       "      <td>0</td>\n",
       "      <td>1</td>\n",
       "      <td>0</td>\n",
       "      <td>0</td>\n",
       "    </tr>\n",
       "  </tbody>\n",
       "</table>\n",
       "<p>5 rows × 46 columns</p>\n",
       "</div>"
      ],
      "text/plain": [
       "   Item_Weight  Item_Visibility  Item_MRP  Outlet_Establishment_Year  \\\n",
       "0         9.30         0.016047  249.8092                       1999   \n",
       "1         5.92         0.019278   48.2692                       2009   \n",
       "2        17.50         0.016760  141.6180                       1999   \n",
       "3        19.20         0.000000  182.0950                       1998   \n",
       "4         8.93         0.000000   53.8614                       1987   \n",
       "\n",
       "   Item_Outlet_Sales  Item_Fat_Content_LF  Item_Fat_Content_Low Fat  \\\n",
       "0          3735.1380                    0                         1   \n",
       "1           443.4228                    0                         0   \n",
       "2          2097.2700                    0                         1   \n",
       "3           732.3800                    0                         0   \n",
       "4           994.7052                    0                         1   \n",
       "\n",
       "   Item_Fat_Content_Regular  Item_Fat_Content_low fat  Item_Fat_Content_reg  \\\n",
       "0                         0                         0                     0   \n",
       "1                         1                         0                     0   \n",
       "2                         0                         0                     0   \n",
       "3                         1                         0                     0   \n",
       "4                         0                         0                     0   \n",
       "\n",
       "   ...  Outlet_Size_High  Outlet_Size_Medium  Outlet_Size_Small  \\\n",
       "0  ...                 0                   1                  0   \n",
       "1  ...                 0                   1                  0   \n",
       "2  ...                 0                   1                  0   \n",
       "3  ...                 0                   0                  0   \n",
       "4  ...                 1                   0                  0   \n",
       "\n",
       "   Outlet_Location_Type_Tier 1  Outlet_Location_Type_Tier 2  \\\n",
       "0                            1                            0   \n",
       "1                            0                            0   \n",
       "2                            1                            0   \n",
       "3                            0                            0   \n",
       "4                            0                            0   \n",
       "\n",
       "   Outlet_Location_Type_Tier 3  Outlet_Type_Grocery Store  \\\n",
       "0                            0                          0   \n",
       "1                            1                          0   \n",
       "2                            0                          0   \n",
       "3                            1                          1   \n",
       "4                            1                          0   \n",
       "\n",
       "   Outlet_Type_Supermarket Type1  Outlet_Type_Supermarket Type2  \\\n",
       "0                              1                              0   \n",
       "1                              0                              1   \n",
       "2                              1                              0   \n",
       "3                              0                              0   \n",
       "4                              1                              0   \n",
       "\n",
       "   Outlet_Type_Supermarket Type3  \n",
       "0                              0  \n",
       "1                              0  \n",
       "2                              0  \n",
       "3                              0  \n",
       "4                              0  \n",
       "\n",
       "[5 rows x 46 columns]"
      ]
     },
     "execution_count": 51,
     "metadata": {},
     "output_type": "execute_result"
    }
   ],
   "source": [
    "# importing data\n",
    "data = pd.read_csv('train_cleaned.csv')\n",
    "data.head()"
   ]
  },
  {
   "cell_type": "code",
   "execution_count": 52,
   "metadata": {},
   "outputs": [
    {
     "name": "stdout",
     "output_type": "stream",
     "text": [
      "(8523, 45) (8523,)\n"
     ]
    }
   ],
   "source": [
    "# segregating independent and dependent variables\n",
    "y = data['Item_Outlet_Sales']\n",
    "x = data.drop(['Item_Outlet_Sales'], axis=1)\n",
    "print(x.shape , y.shape)"
   ]
  },
  {
   "cell_type": "code",
   "execution_count": 53,
   "metadata": {},
   "outputs": [],
   "source": [
    "# splitting the data into train set and test set\n",
    "from sklearn.model_selection import train_test_split\n",
    "\n",
    "x_train, x_test, y_train, y_test = train_test_split(x, y,\\\n",
    "                        test_size=0.2 , random_state = 28)"
   ]
  },
  {
   "cell_type": "markdown",
   "metadata": {},
   "source": [
    "## Implementing Linear Regression"
   ]
  },
  {
   "cell_type": "code",
   "execution_count": 54,
   "metadata": {},
   "outputs": [],
   "source": [
    "# import Linear regression and metric mean square error \n",
    "from sklearn.linear_model import LinearRegression\n",
    "from sklearn.metrics import mean_absolute_error as mae"
   ]
  },
  {
   "cell_type": "code",
   "execution_count": 55,
   "metadata": {},
   "outputs": [
    {
     "data": {
      "text/plain": [
       "LinearRegression(copy_X=True, fit_intercept=True, n_jobs=None, normalize=False)"
      ]
     },
     "execution_count": 55,
     "metadata": {},
     "output_type": "execute_result"
    }
   ],
   "source": [
    "# creating instance of Linear Regression\n",
    "lr = LinearRegression()\n",
    "\n",
    "# fitting the model\n",
    "lr.fit(x_train,y_train)"
   ]
  },
  {
   "cell_type": "code",
   "execution_count": 56,
   "metadata": {},
   "outputs": [
    {
     "name": "stdout",
     "output_type": "stream",
     "text": [
      "Test Mean Absolute Error  823.9250049160775\n"
     ]
    }
   ],
   "source": [
    "# predicting over the rain set and calculating error\n",
    "test_predict = lr.predict(x_test)\n",
    "k = mae(test_predict, y_test)\n",
    "print('Test Mean Absolute Error ',k)"
   ]
  },
  {
   "cell_type": "markdown",
   "metadata": {},
   "source": [
    "## Parameters of Linear Regression"
   ]
  },
  {
   "cell_type": "code",
   "execution_count": 57,
   "metadata": {},
   "outputs": [
    {
     "data": {
      "text/plain": [
       "array([-2.40310194e+00, -2.56585355e+02,  1.55421206e+01, -1.86634820e+01,\n",
       "       -2.27614181e+01, -1.79596992e+01,  2.81372883e+01,  1.74444548e+01,\n",
       "       -4.86062583e+00,  1.17329029e+01,  3.73300665e+01, -6.63051080e+01,\n",
       "        1.71069811e+01, -6.73092257e+01, -8.23147926e+00, -8.38597258e+00,\n",
       "       -3.71576125e+01,  8.42985577e-01, -6.39011253e+01,  2.66488306e+01,\n",
       "       -3.29371251e+00,  1.01819523e+02,  7.87931515e+00, -4.28650632e+01,\n",
       "        9.40886940e+01, -4.86104982e+02, -4.42197869e+01,  1.54478794e+02,\n",
       "       -4.06615154e+01, -4.74374541e+02,  5.96027424e+02,  1.51705223e+02,\n",
       "       -1.00794210e+02,  3.08812111e+02, -6.48685173e+01, -4.42197869e+01,\n",
       "        4.90497391e+02, -1.38572066e+01, -2.30430947e+02,  2.05389807e+02,\n",
       "        2.50411398e+01, -9.60479522e+02,  4.05113614e+02, -4.06615154e+01,\n",
       "        5.96027424e+02])"
      ]
     },
     "execution_count": 57,
     "metadata": {},
     "output_type": "execute_result"
    }
   ],
   "source": [
    "lr.coef_"
   ]
  },
  {
   "cell_type": "markdown",
   "metadata": {},
   "source": [
    "## Plotting the coefficients "
   ]
  },
  {
   "cell_type": "code",
   "execution_count": 58,
   "metadata": {},
   "outputs": [
    {
     "data": {
      "text/plain": [
       "Text(0.5, 1.0, 'Coefficient plot')"
      ]
     },
     "execution_count": 58,
     "metadata": {},
     "output_type": "execute_result"
    },
    {
     "data": {
      "image/png": "[encoded data removed]",
      "text/plain": [
       "<Figure size 576x432 with 1 Axes>"
      ]
     },
     "metadata": {
      "needs_background": "light"
     },
     "output_type": "display_data"
    }
   ],
   "source": [
    "plt.figure(figsize=(8,6))\n",
    "x = range(len(x_train.columns))\n",
    "y = lr.coef_\n",
    "plt.bar(x, y )\n",
    "plt.xlabel(\"Variables\")\n",
    "plt.ylabel(\"Coefficients\")\n",
    "plt.title(\"Coefficient plot\")"
   ]
  },
  {
   "cell_type": "markdown",
   "metadata": {},
   "source": [
    "Here we can see that the model depends upon some independent variables too much. But these coefficients are not suitable for interpretation because these are not scaled, therefore we will perform the interpretation later."
   ]
  },
  {
   "cell_type": "markdown",
   "metadata": {},
   "source": [
    "## Checking assumptions of Linear Model"
   ]
  },
  {
   "cell_type": "code",
   "execution_count": 59,
   "metadata": {},
   "outputs": [
    {
     "data": {
      "text/html": [
       "<div>\n",
       "<style scoped>\n",
       "    .dataframe tbody tr th:only-of-type {\n",
       "        vertical-align: middle;\n",
       "    }\n",
       "\n",
       "    .dataframe tbody tr th {\n",
       "        vertical-align: top;\n",
       "    }\n",
       "\n",
       "    .dataframe thead th {\n",
       "        text-align: right;\n",
       "    }\n",
       "</style>\n",
       "<table border=\"1\" class=\"dataframe\">\n",
       "  <thead>\n",
       "    <tr style=\"text-align: right;\">\n",
       "      <th></th>\n",
       "      <th>actual values</th>\n",
       "      <th>predicted values</th>\n",
       "      <th>residuals</th>\n",
       "    </tr>\n",
       "  </thead>\n",
       "  <tbody>\n",
       "    <tr>\n",
       "      <th>8482</th>\n",
       "      <td>763.0068</td>\n",
       "      <td>1779.828461</td>\n",
       "      <td>-1016.821661</td>\n",
       "    </tr>\n",
       "    <tr>\n",
       "      <th>907</th>\n",
       "      <td>445.4202</td>\n",
       "      <td>2439.241850</td>\n",
       "      <td>-1993.821650</td>\n",
       "    </tr>\n",
       "    <tr>\n",
       "      <th>2817</th>\n",
       "      <td>243.6828</td>\n",
       "      <td>734.117814</td>\n",
       "      <td>-490.435014</td>\n",
       "    </tr>\n",
       "    <tr>\n",
       "      <th>6922</th>\n",
       "      <td>826.9236</td>\n",
       "      <td>680.592042</td>\n",
       "      <td>146.331558</td>\n",
       "    </tr>\n",
       "    <tr>\n",
       "      <th>2413</th>\n",
       "      <td>171.7764</td>\n",
       "      <td>1122.205618</td>\n",
       "      <td>-950.429218</td>\n",
       "    </tr>\n",
       "  </tbody>\n",
       "</table>\n",
       "</div>"
      ],
      "text/plain": [
       "      actual values  predicted values    residuals\n",
       "8482       763.0068       1779.828461 -1016.821661\n",
       "907        445.4202       2439.241850 -1993.821650\n",
       "2817       243.6828        734.117814  -490.435014\n",
       "6922       826.9236        680.592042   146.331558\n",
       "2413       171.7764       1122.205618  -950.429218"
      ]
     },
     "execution_count": 59,
     "metadata": {},
     "output_type": "execute_result"
    }
   ],
   "source": [
    "# Arranging and calculating the Residuals \n",
    "residuals = pd.DataFrame({'actual values' : y_test , \\\n",
    "                         'predicted values' : test_predict})\n",
    "\n",
    "residuals['residuals'] = residuals['actual values'] - \\\n",
    "                         residuals['predicted values']\n",
    "\n",
    "residuals.head()"
   ]
  },
  {
   "cell_type": "code",
   "execution_count": 60,
   "metadata": {},
   "outputs": [
    {
     "data": {
      "text/plain": [
       "(1705,)"
      ]
     },
     "execution_count": 60,
     "metadata": {},
     "output_type": "execute_result"
    }
   ],
   "source": [
    "y_test.shape"
   ]
  },
  {
   "cell_type": "markdown",
   "metadata": {},
   "source": [
    "## Plotting residual curve ( Is there constant Variance or Heteroscedastic ? )"
   ]
  },
  {
   "cell_type": "code",
   "execution_count": 61,
   "metadata": {},
   "outputs": [
    {
     "data": {
      "text/plain": [
       "<matplotlib.legend.Legend at 0x20c728bc978>"
      ]
     },
     "execution_count": 61,
     "metadata": {},
     "output_type": "execute_result"
    },
    {
     "data": {
      "image/png": "[encoded data removed]",
      "text/plain": [
       "<Figure size 1200x720 with 1 Axes>"
      ]
     },
     "metadata": {
      "needs_background": "light"
     },
     "output_type": "display_data"
    }
   ],
   "source": [
    "plt.figure(figsize = (10,6) , dpi = 120)\n",
    "f = range(0,1705)\n",
    "k = [0 for i in range(0,1705)]\n",
    "plt.scatter(f,residuals.residuals[:], label='residuals')\n",
    "plt.plot(f,k,color = 'red', label = 'regression line')\n",
    "plt.xlabel('y_test')\n",
    "plt.ylabel('residuals')\n",
    "plt.title('Residual plot')\n",
    "plt.ylim(-4000,4000)\n",
    "plt.legend()"
   ]
  },
  {
   "cell_type": "markdown",
   "metadata": {},
   "source": [
    "The residual plot clearly doesn't have any pattern and it is uniformly scattered around the regression line. Hence, independent variables are linearly related to dependent variable.\n",
    "Also, there is constant variance in the residuals. Hence, the data is homoscedastic."
   ]
  },
  {
   "cell_type": "markdown",
   "metadata": {},
   "source": [
    "## Checking Distribution of Residuals "
   ]
  },
  {
   "cell_type": "code",
   "execution_count": 62,
   "metadata": {},
   "outputs": [
    {
     "data": {
      "image/png": "[encoded data removed]",
      "text/plain": [
       "<Figure size 1200x720 with 1 Axes>"
      ]
     },
     "metadata": {
      "needs_background": "light"
     },
     "output_type": "display_data"
    }
   ],
   "source": [
    "# Histogram for distribution\n",
    "plt.figure(figsize=(10,6), dpi=120)\n",
    "plt.hist(residuals.residuals, bins = 150)\n",
    "plt.xlabel('Error')\n",
    "plt.ylabel('Frequency')\n",
    "plt.title('Distribution of Error Terms')\n",
    "plt.show()"
   ]
  },
  {
   "cell_type": "markdown",
   "metadata": {},
   "source": [
    "According to the histogram, the distribution of error is nearly normal. But there are some outliers on the higher end of the errors."
   ]
  },
  {
   "cell_type": "markdown",
   "metadata": {},
   "source": [
    "# QQ-Plot ( Is the data Normally Distributed? )"
   ]
  },
  {
   "cell_type": "code",
   "execution_count": 63,
   "metadata": {},
   "outputs": [
    {
     "data": {
      "image/png": "[encoded data removed]",
      "text/plain": [
       "<Figure size 600x600 with 1 Axes>"
      ]
     },
     "metadata": {
      "needs_background": "light"
     },
     "output_type": "display_data"
    }
   ],
   "source": [
    "# importing the QQ-plot from the statsmodels\n",
    "from statsmodels.graphics.gofplots import qqplot\n",
    "\n",
    "## plotting the QQ plot\n",
    "fig, ax = plt.subplots(figsize=(5,5), dpi=120)\n",
    "qqplot(residuals.residuals, line='s', ax = ax)\n",
    "plt.ylabel('Residual Quantiles')\n",
    "plt.xlabel('Ideal Scaled Quantiles')\n",
    "plt.title('Checking distribution of Residual Errors')\n",
    "plt.show()"
   ]
  },
  {
   "cell_type": "markdown",
   "metadata": {},
   "source": [
    "<p>The QQ-plot clearlyverifies our findings from the histogram of the residuals, the data is mostly normal in nature, but there are some outliers on the higher end of the residuals.</p>"
   ]
  },
  {
   "cell_type": "markdown",
   "metadata": {},
   "source": [
    "## Variance Inflation Factor (VIF) (Checking for multicollinearity)"
   ]
  },
  {
   "cell_type": "code",
   "execution_count": 64,
   "metadata": {},
   "outputs": [
    {
     "data": {
      "text/plain": [
       "Item_Weight                        float64\n",
       "Item_Visibility                    float64\n",
       "Item_MRP                           float64\n",
       "Outlet_Establishment_Year            int64\n",
       "Item_Outlet_Sales                  float64\n",
       "Item_Fat_Content_LF                  int64\n",
       "Item_Fat_Content_Low Fat             int64\n",
       "Item_Fat_Content_Regular             int64\n",
       "Item_Fat_Content_low fat             int64\n",
       "Item_Fat_Content_reg                 int64\n",
       "Item_Type_Baking Goods               int64\n",
       "Item_Type_Breads                     int64\n",
       "Item_Type_Breakfast                  int64\n",
       "Item_Type_Canned                     int64\n",
       "Item_Type_Dairy                      int64\n",
       "Item_Type_Frozen Foods               int64\n",
       "Item_Type_Fruits and Vegetables      int64\n",
       "Item_Type_Hard Drinks                int64\n",
       "Item_Type_Health and Hygiene         int64\n",
       "Item_Type_Household                  int64\n",
       "Item_Type_Meat                       int64\n",
       "Item_Type_Others                     int64\n",
       "Item_Type_Seafood                    int64\n",
       "Item_Type_Snack Foods                int64\n",
       "Item_Type_Soft Drinks                int64\n",
       "Item_Type_Starchy Foods              int64\n",
       "Outlet_Identifier_OUT010             int64\n",
       "Outlet_Identifier_OUT013             int64\n",
       "Outlet_Identifier_OUT017             int64\n",
       "Outlet_Identifier_OUT018             int64\n",
       "Outlet_Identifier_OUT019             int64\n",
       "Outlet_Identifier_OUT027             int64\n",
       "Outlet_Identifier_OUT035             int64\n",
       "Outlet_Identifier_OUT045             int64\n",
       "Outlet_Identifier_OUT046             int64\n",
       "Outlet_Identifier_OUT049             int64\n",
       "Outlet_Size_High                     int64\n",
       "Outlet_Size_Medium                   int64\n",
       "Outlet_Size_Small                    int64\n",
       "Outlet_Location_Type_Tier 1          int64\n",
       "Outlet_Location_Type_Tier 2          int64\n",
       "Outlet_Location_Type_Tier 3          int64\n",
       "Outlet_Type_Grocery Store            int64\n",
       "Outlet_Type_Supermarket Type1        int64\n",
       "Outlet_Type_Supermarket Type2        int64\n",
       "Outlet_Type_Supermarket Type3        int64\n",
       "dtype: object"
      ]
     },
     "execution_count": 64,
     "metadata": {},
     "output_type": "execute_result"
    }
   ],
   "source": [
    "data.dtypes\n",
    "# to observe the continuous and categorical variable"
   ]
  },
  {
   "cell_type": "code",
   "execution_count": 65,
   "metadata": {},
   "outputs": [
    {
     "name": "stderr",
     "output_type": "stream",
     "text": [
      "C:\\Users\\DELL\\Anaconda3\\lib\\site-packages\\statsmodels\\stats\\outliers_influence.py:193: RuntimeWarning: divide by zero encountered in double_scalars\n",
      "  vif = 1. / (1. - r_squared_i)\n"
     ]
    },
    {
     "data": {
      "text/plain": [
       "Item_Weight                        2.349925\n",
       "Item_Visibility                    1.101456\n",
       "Item_MRP                           1.753170\n",
       "Outlet_Establishment_Year               inf\n",
       "Item_Outlet_Sales                  2.292720\n",
       "Item_Fat_Content_LF                     inf\n",
       "Item_Fat_Content_Low Fat                inf\n",
       "Item_Fat_Content_Regular                inf\n",
       "Item_Fat_Content_low fat                inf\n",
       "Item_Fat_Content_reg                    inf\n",
       "Item_Type_Baking Goods                  inf\n",
       "Item_Type_Breads                        inf\n",
       "Item_Type_Breakfast                     inf\n",
       "Item_Type_Canned                        inf\n",
       "Item_Type_Dairy                         inf\n",
       "Item_Type_Frozen Foods                  inf\n",
       "Item_Type_Fruits and Vegetables         inf\n",
       "Item_Type_Hard Drinks                   inf\n",
       "Item_Type_Health and Hygiene            inf\n",
       "Item_Type_Household                     inf\n",
       "Item_Type_Meat                          inf\n",
       "Item_Type_Others                        inf\n",
       "Item_Type_Seafood                       inf\n",
       "Item_Type_Snack Foods                   inf\n",
       "Item_Type_Soft Drinks                   inf\n",
       "Item_Type_Starchy Foods                 inf\n",
       "Outlet_Identifier_OUT010                inf\n",
       "Outlet_Identifier_OUT013                inf\n",
       "Outlet_Identifier_OUT017                inf\n",
       "Outlet_Identifier_OUT018                inf\n",
       "Outlet_Identifier_OUT019                inf\n",
       "Outlet_Identifier_OUT027                inf\n",
       "Outlet_Identifier_OUT035                inf\n",
       "Outlet_Identifier_OUT045                inf\n",
       "Outlet_Identifier_OUT046                inf\n",
       "Outlet_Identifier_OUT049                inf\n",
       "Outlet_Size_High                        inf\n",
       "Outlet_Size_Medium                      inf\n",
       "Outlet_Size_Small                       inf\n",
       "Outlet_Location_Type_Tier 1             inf\n",
       "Outlet_Location_Type_Tier 2             inf\n",
       "Outlet_Location_Type_Tier 3             inf\n",
       "Outlet_Type_Grocery Store               inf\n",
       "Outlet_Type_Supermarket Type1           inf\n",
       "Outlet_Type_Supermarket Type2           inf\n",
       "Outlet_Type_Supermarket Type3           inf\n",
       "dtype: float64"
      ]
     },
     "execution_count": 65,
     "metadata": {},
     "output_type": "execute_result"
    }
   ],
   "source": [
    "# importing variance_inflation_factor function from the Statsmodels\n",
    "from statsmodels.stats.outliers_influence import variance_inflation_factor\n",
    "from statsmodels.tools.tools import add_constant\n",
    "\n",
    "# Calculating VIF for every column (only works for the non categorical feature)\n",
    "VIF = pd.Series([variance_inflation_factor(data.values , i) for i in range(data.shape[1])], index = data.columns)\n",
    "VIF"
   ]
  },
  {
   "cell_type": "markdown",
   "metadata": {},
   "source": [
    "From this list, we clearly see that there happens to be no independent variable over the value of 5, which means that there are no features that exhibit the multicollinearity in the dataset. Note that VIF only works for the continuous variables."
   ]
  },
  {
   "cell_type": "markdown",
   "metadata": {},
   "source": [
    "## Model Interpretability\n",
    "So far we have simply been predicting the values using the linear regression. But in order to interpret the model, the normalising of the data is essential."
   ]
  },
  {
   "cell_type": "code",
   "execution_count": 66,
   "metadata": {},
   "outputs": [
    {
     "data": {
      "text/plain": [
       "LinearRegression(copy_X=True, fit_intercept=True, n_jobs=None, normalize=True)"
      ]
     },
     "execution_count": 66,
     "metadata": {},
     "output_type": "execute_result"
    }
   ],
   "source": [
    "# Creating instamce of Linear Regression\n",
    "lr = LinearRegression(normalize = True)\n",
    "\n",
    "# Fitting the model\n",
    "lr.fit(x_train,y_train)"
   ]
  },
  {
   "cell_type": "code",
   "execution_count": 67,
   "metadata": {},
   "outputs": [
    {
     "name": "stdout",
     "output_type": "stream",
     "text": [
      "Training Mean Absolute Error  838.3586062775007\n"
     ]
    }
   ],
   "source": [
    "# Predicting over the train set and calculating error\n",
    "y_train_pred = lr.predict(x_train)\n",
    "k = mae(y_train, y_train_pred)\n",
    "print('Training Mean Absolute Error ',k)"
   ]
  },
  {
   "cell_type": "code",
   "execution_count": 68,
   "metadata": {},
   "outputs": [
    {
     "name": "stdout",
     "output_type": "stream",
     "text": [
      "Testing Mean Absolute Error  822.6152319061583\n"
     ]
    }
   ],
   "source": [
    "# Predicting over the tet set and calculating error\n",
    "y_test_pred = lr.predict(x_test)\n",
    "k = mae(y_test,y_test_pred)\n",
    "print('Testing Mean Absolute Error ',k)"
   ]
  },
  {
   "cell_type": "code",
   "execution_count": 69,
   "metadata": {},
   "outputs": [
    {
     "data": {
      "text/plain": [
       "Text(0.5, 1.0, 'Normalised Coefficient plot')"
      ]
     },
     "execution_count": 69,
     "metadata": {},
     "output_type": "execute_result"
    },
    {
     "data": {
      "image/png": "[encoded data removed]",
      "text/plain": [
       "<Figure size 960x720 with 1 Axes>"
      ]
     },
     "metadata": {
      "needs_background": "light"
     },
     "output_type": "display_data"
    }
   ],
   "source": [
    "plt.figure(figsize=(8,6), dpi=120)\n",
    "x = range(len(x_train.columns))\n",
    "y = lr.coef_\n",
    "plt.bar(x,y)\n",
    "plt.xlabel(\"Variables\")\n",
    "plt.ylabel(\"Coefficients\")\n",
    "plt.title(\"Normalised Coefficient plot\")"
   ]
  },
  {
   "cell_type": "markdown",
   "metadata": {},
   "source": [
    "Now the coefficients we see are normalised and we can easily make final inferences out of it.\n",
    "\n",
    "Here we can see that there are a lot of coefficients which are near to zero and not significant. So let us try removing them and build the model again."
   ]
  },
  {
   "cell_type": "markdown",
   "metadata": {},
   "source": [
    "### Creating new subsets of data"
   ]
  },
  {
   "cell_type": "code",
   "execution_count": 70,
   "metadata": {},
   "outputs": [
    {
     "name": "stdout",
     "output_type": "stream",
     "text": [
      "(8523, 45) (8523,)\n"
     ]
    }
   ],
   "source": [
    "# separating independent and dependent variables\n",
    "x = data.drop(['Item_Outlet_Sales'],axis=1)\n",
    "y = data['Item_Outlet_Sales']\n",
    "print(x.shape, y.shape)"
   ]
  },
  {
   "cell_type": "markdown",
   "metadata": {},
   "source": [
    "### Arranging coefficients with features"
   ]
  },
  {
   "cell_type": "code",
   "execution_count": 71,
   "metadata": {},
   "outputs": [
    {
     "data": {
      "text/html": [
       "<div>\n",
       "<style scoped>\n",
       "    .dataframe tbody tr th:only-of-type {\n",
       "        vertical-align: middle;\n",
       "    }\n",
       "\n",
       "    .dataframe tbody tr th {\n",
       "        vertical-align: top;\n",
       "    }\n",
       "\n",
       "    .dataframe thead th {\n",
       "        text-align: right;\n",
       "    }\n",
       "</style>\n",
       "<table border=\"1\" class=\"dataframe\">\n",
       "  <thead>\n",
       "    <tr style=\"text-align: right;\">\n",
       "      <th></th>\n",
       "      <th>Variable</th>\n",
       "      <th>coefficient</th>\n",
       "    </tr>\n",
       "  </thead>\n",
       "  <tbody>\n",
       "    <tr>\n",
       "      <th>0</th>\n",
       "      <td>Item_Weight</td>\n",
       "      <td>-2.383211e+00</td>\n",
       "    </tr>\n",
       "    <tr>\n",
       "      <th>1</th>\n",
       "      <td>Item_Visibility</td>\n",
       "      <td>-2.570279e+02</td>\n",
       "    </tr>\n",
       "    <tr>\n",
       "      <th>2</th>\n",
       "      <td>Item_MRP</td>\n",
       "      <td>1.554086e+01</td>\n",
       "    </tr>\n",
       "    <tr>\n",
       "      <th>3</th>\n",
       "      <td>Outlet_Establishment_Year</td>\n",
       "      <td>1.506428e+13</td>\n",
       "    </tr>\n",
       "    <tr>\n",
       "      <th>4</th>\n",
       "      <td>Item_Fat_Content_LF</td>\n",
       "      <td>3.944836e+12</td>\n",
       "    </tr>\n",
       "  </tbody>\n",
       "</table>\n",
       "</div>"
      ],
      "text/plain": [
       "                    Variable   coefficient\n",
       "0                Item_Weight -2.383211e+00\n",
       "1            Item_Visibility -2.570279e+02\n",
       "2                   Item_MRP  1.554086e+01\n",
       "3  Outlet_Establishment_Year  1.506428e+13\n",
       "4        Item_Fat_Content_LF  3.944836e+12"
      ]
     },
     "execution_count": 71,
     "metadata": {},
     "output_type": "execute_result"
    }
   ],
   "source": [
    "Coefficients = pd.DataFrame({\n",
    "    'Variable' : x.columns,\\\n",
    "    'coefficient' : lr.coef_\n",
    "})\n",
    "Coefficients.head()"
   ]
  },
  {
   "cell_type": "markdown",
   "metadata": {},
   "source": [
    "### Choosing variables with significance greater than 0.5 (Filtering significant features )"
   ]
  },
  {
   "cell_type": "code",
   "execution_count": 72,
   "metadata": {},
   "outputs": [],
   "source": [
    "sig_var = Coefficients[Coefficients.coefficient > 1.0]"
   ]
  },
  {
   "cell_type": "markdown",
   "metadata": {},
   "source": [
    "### Extracting the significant subset "
   ]
  },
  {
   "cell_type": "code",
   "execution_count": 73,
   "metadata": {},
   "outputs": [
    {
     "data": {
      "text/html": [
       "<div>\n",
       "<style scoped>\n",
       "    .dataframe tbody tr th:only-of-type {\n",
       "        vertical-align: middle;\n",
       "    }\n",
       "\n",
       "    .dataframe tbody tr th {\n",
       "        vertical-align: top;\n",
       "    }\n",
       "\n",
       "    .dataframe thead th {\n",
       "        text-align: right;\n",
       "    }\n",
       "</style>\n",
       "<table border=\"1\" class=\"dataframe\">\n",
       "  <thead>\n",
       "    <tr style=\"text-align: right;\">\n",
       "      <th></th>\n",
       "      <th>Item_MRP</th>\n",
       "      <th>Outlet_Establishment_Year</th>\n",
       "      <th>Item_Fat_Content_LF</th>\n",
       "      <th>Item_Fat_Content_Low Fat</th>\n",
       "      <th>Item_Fat_Content_Regular</th>\n",
       "      <th>Item_Fat_Content_low fat</th>\n",
       "      <th>Item_Fat_Content_reg</th>\n",
       "      <th>Outlet_Identifier_OUT010</th>\n",
       "      <th>Outlet_Identifier_OUT018</th>\n",
       "      <th>Outlet_Identifier_OUT019</th>\n",
       "      <th>Outlet_Identifier_OUT027</th>\n",
       "      <th>Outlet_Identifier_OUT035</th>\n",
       "      <th>Outlet_Identifier_OUT045</th>\n",
       "      <th>Outlet_Size_High</th>\n",
       "      <th>Outlet_Size_Small</th>\n",
       "      <th>Outlet_Location_Type_Tier 1</th>\n",
       "      <th>Outlet_Location_Type_Tier 3</th>\n",
       "      <th>Outlet_Type_Grocery Store</th>\n",
       "      <th>Outlet_Type_Supermarket Type1</th>\n",
       "      <th>Outlet_Type_Supermarket Type3</th>\n",
       "    </tr>\n",
       "  </thead>\n",
       "  <tbody>\n",
       "    <tr>\n",
       "      <th>0</th>\n",
       "      <td>249.8092</td>\n",
       "      <td>1999</td>\n",
       "      <td>0</td>\n",
       "      <td>1</td>\n",
       "      <td>0</td>\n",
       "      <td>0</td>\n",
       "      <td>0</td>\n",
       "      <td>0</td>\n",
       "      <td>0</td>\n",
       "      <td>0</td>\n",
       "      <td>0</td>\n",
       "      <td>0</td>\n",
       "      <td>0</td>\n",
       "      <td>0</td>\n",
       "      <td>0</td>\n",
       "      <td>1</td>\n",
       "      <td>0</td>\n",
       "      <td>0</td>\n",
       "      <td>1</td>\n",
       "      <td>0</td>\n",
       "    </tr>\n",
       "    <tr>\n",
       "      <th>1</th>\n",
       "      <td>48.2692</td>\n",
       "      <td>2009</td>\n",
       "      <td>0</td>\n",
       "      <td>0</td>\n",
       "      <td>1</td>\n",
       "      <td>0</td>\n",
       "      <td>0</td>\n",
       "      <td>0</td>\n",
       "      <td>1</td>\n",
       "      <td>0</td>\n",
       "      <td>0</td>\n",
       "      <td>0</td>\n",
       "      <td>0</td>\n",
       "      <td>0</td>\n",
       "      <td>0</td>\n",
       "      <td>0</td>\n",
       "      <td>1</td>\n",
       "      <td>0</td>\n",
       "      <td>0</td>\n",
       "      <td>0</td>\n",
       "    </tr>\n",
       "    <tr>\n",
       "      <th>2</th>\n",
       "      <td>141.6180</td>\n",
       "      <td>1999</td>\n",
       "      <td>0</td>\n",
       "      <td>1</td>\n",
       "      <td>0</td>\n",
       "      <td>0</td>\n",
       "      <td>0</td>\n",
       "      <td>0</td>\n",
       "      <td>0</td>\n",
       "      <td>0</td>\n",
       "      <td>0</td>\n",
       "      <td>0</td>\n",
       "      <td>0</td>\n",
       "      <td>0</td>\n",
       "      <td>0</td>\n",
       "      <td>1</td>\n",
       "      <td>0</td>\n",
       "      <td>0</td>\n",
       "      <td>1</td>\n",
       "      <td>0</td>\n",
       "    </tr>\n",
       "    <tr>\n",
       "      <th>3</th>\n",
       "      <td>182.0950</td>\n",
       "      <td>1998</td>\n",
       "      <td>0</td>\n",
       "      <td>0</td>\n",
       "      <td>1</td>\n",
       "      <td>0</td>\n",
       "      <td>0</td>\n",
       "      <td>1</td>\n",
       "      <td>0</td>\n",
       "      <td>0</td>\n",
       "      <td>0</td>\n",
       "      <td>0</td>\n",
       "      <td>0</td>\n",
       "      <td>0</td>\n",
       "      <td>0</td>\n",
       "      <td>0</td>\n",
       "      <td>1</td>\n",
       "      <td>1</td>\n",
       "      <td>0</td>\n",
       "      <td>0</td>\n",
       "    </tr>\n",
       "    <tr>\n",
       "      <th>4</th>\n",
       "      <td>53.8614</td>\n",
       "      <td>1987</td>\n",
       "      <td>0</td>\n",
       "      <td>1</td>\n",
       "      <td>0</td>\n",
       "      <td>0</td>\n",
       "      <td>0</td>\n",
       "      <td>0</td>\n",
       "      <td>0</td>\n",
       "      <td>0</td>\n",
       "      <td>0</td>\n",
       "      <td>0</td>\n",
       "      <td>0</td>\n",
       "      <td>1</td>\n",
       "      <td>0</td>\n",
       "      <td>0</td>\n",
       "      <td>1</td>\n",
       "      <td>0</td>\n",
       "      <td>1</td>\n",
       "      <td>0</td>\n",
       "    </tr>\n",
       "  </tbody>\n",
       "</table>\n",
       "</div>"
      ],
      "text/plain": [
       "   Item_MRP  Outlet_Establishment_Year  Item_Fat_Content_LF  \\\n",
       "0  249.8092                       1999                    0   \n",
       "1   48.2692                       2009                    0   \n",
       "2  141.6180                       1999                    0   \n",
       "3  182.0950                       1998                    0   \n",
       "4   53.8614                       1987                    0   \n",
       "\n",
       "   Item_Fat_Content_Low Fat  Item_Fat_Content_Regular  \\\n",
       "0                         1                         0   \n",
       "1                         0                         1   \n",
       "2                         1                         0   \n",
       "3                         0                         1   \n",
       "4                         1                         0   \n",
       "\n",
       "   Item_Fat_Content_low fat  Item_Fat_Content_reg  Outlet_Identifier_OUT010  \\\n",
       "0                         0                     0                         0   \n",
       "1                         0                     0                         0   \n",
       "2                         0                     0                         0   \n",
       "3                         0                     0                         1   \n",
       "4                         0                     0                         0   \n",
       "\n",
       "   Outlet_Identifier_OUT018  Outlet_Identifier_OUT019  \\\n",
       "0                         0                         0   \n",
       "1                         1                         0   \n",
       "2                         0                         0   \n",
       "3                         0                         0   \n",
       "4                         0                         0   \n",
       "\n",
       "   Outlet_Identifier_OUT027  Outlet_Identifier_OUT035  \\\n",
       "0                         0                         0   \n",
       "1                         0                         0   \n",
       "2                         0                         0   \n",
       "3                         0                         0   \n",
       "4                         0                         0   \n",
       "\n",
       "   Outlet_Identifier_OUT045  Outlet_Size_High  Outlet_Size_Small  \\\n",
       "0                         0                 0                  0   \n",
       "1                         0                 0                  0   \n",
       "2                         0                 0                  0   \n",
       "3                         0                 0                  0   \n",
       "4                         0                 1                  0   \n",
       "\n",
       "   Outlet_Location_Type_Tier 1  Outlet_Location_Type_Tier 3  \\\n",
       "0                            1                            0   \n",
       "1                            0                            1   \n",
       "2                            1                            0   \n",
       "3                            0                            1   \n",
       "4                            0                            1   \n",
       "\n",
       "   Outlet_Type_Grocery Store  Outlet_Type_Supermarket Type1  \\\n",
       "0                          0                              1   \n",
       "1                          0                              0   \n",
       "2                          0                              1   \n",
       "3                          1                              0   \n",
       "4                          0                              1   \n",
       "\n",
       "   Outlet_Type_Supermarket Type3  \n",
       "0                              0  \n",
       "1                              0  \n",
       "2                              0  \n",
       "3                              0  \n",
       "4                              0  "
      ]
     },
     "execution_count": 73,
     "metadata": {},
     "output_type": "execute_result"
    }
   ],
   "source": [
    "subset = data[sig_var['Variable'].values]\n",
    "subset.head()"
   ]
  },
  {
   "cell_type": "markdown",
   "metadata": {},
   "source": [
    "### Splitting the data into train set and the test set"
   ]
  },
  {
   "cell_type": "code",
   "execution_count": 74,
   "metadata": {},
   "outputs": [],
   "source": [
    "x_train, x_test, y_train, y_test = train_test_split(subset,y,\\\n",
    "                                    random_state=28 )"
   ]
  },
  {
   "cell_type": "markdown",
   "metadata": {},
   "source": [
    "### Implementing Linear Regression"
   ]
  },
  {
   "cell_type": "code",
   "execution_count": 75,
   "metadata": {},
   "outputs": [
    {
     "data": {
      "text/plain": [
       "LinearRegression(copy_X=True, fit_intercept=True, n_jobs=None, normalize=True)"
      ]
     },
     "execution_count": 75,
     "metadata": {},
     "output_type": "execute_result"
    }
   ],
   "source": [
    "# Creating the instance of Linear Regression with normalised data\n",
    "lr = LinearRegression(normalize = True)\n",
    "\n",
    "# fitting the model\n",
    "lr.fit(x_train,y_train)"
   ]
  },
  {
   "cell_type": "code",
   "execution_count": 76,
   "metadata": {},
   "outputs": [
    {
     "name": "stdout",
     "output_type": "stream",
     "text": [
      "Training Mean Absolute Error  843.0417873904881\n"
     ]
    }
   ],
   "source": [
    "# Predicting over the train set and calculating error \n",
    "train_pred = lr.predict(x_train)\n",
    "k = mae(y_train,train_pred)\n",
    "print('Training Mean Absolute Error ', k)"
   ]
  },
  {
   "cell_type": "code",
   "execution_count": 77,
   "metadata": {},
   "outputs": [
    {
     "name": "stdout",
     "output_type": "stream",
     "text": [
      "Test Mean Absolute Error  820.1219593618018\n"
     ]
    }
   ],
   "source": [
    "# predicting over the test set and calculating error\n",
    "test_predict = lr.predict(x_test)\n",
    "k = mae(y_test,test_predict)\n",
    "print('Test Mean Absolute Error ', k)"
   ]
  },
  {
   "cell_type": "code",
   "execution_count": 78,
   "metadata": {},
   "outputs": [
    {
     "data": {
      "text/plain": [
       "Text(0.5, 1.0, 'Normalized Coefficient plot')"
      ]
     },
     "execution_count": 78,
     "metadata": {},
     "output_type": "execute_result"
    },
    {
     "data": {
      "image/png": "[encoded data removed]",
      "text/plain": [
       "<Figure size 960x720 with 1 Axes>"
      ]
     },
     "metadata": {
      "needs_background": "light"
     },
     "output_type": "display_data"
    }
   ],
   "source": [
    "plt.figure(figsize=(8,6),dpi=120)\n",
    "x = range(len(x_train.columns))\n",
    "y = lr.coef_\n",
    "plt.bar(x,y)\n",
    "plt.xlabel(\"Variable\")\n",
    "plt.ylabel(\"Coefficients\")\n",
    "plt.title('Normalized Coefficient plot')"
   ]
  },
  {
   "cell_type": "code",
   "execution_count": null,
   "metadata": {},
   "outputs": [],
   "source": []
  },
  {
   "cell_type": "code",
   "execution_count": null,
   "metadata": {},
   "outputs": [],
   "source": [
    "\n"
   ]
  }
 ],
 "metadata": {
  "kernelspec": {
   "display_name": "Python 3",
   "language": "python",
   "name": "python3"
  },
  "language_info": {
   "codemirror_mode": {
    "name": "ipython",
    "version": 3
   },
   "file_extension": ".py",
   "mimetype": "text/x-python",
   "name": "python",
   "nbconvert_exporter": "python",
   "pygments_lexer": "ipython3",
   "version": "3.6.9"
  }
 },
 "nbformat": 4,
 "nbformat_minor": 4
}
